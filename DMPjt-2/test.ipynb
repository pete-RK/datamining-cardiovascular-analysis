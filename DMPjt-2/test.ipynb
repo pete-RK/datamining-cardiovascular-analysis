{
 "cells": [
  {
   "cell_type": "code",
   "execution_count": 1,
   "id": "0a0975a6",
   "metadata": {},
   "outputs": [],
   "source": [
    "import pandas as pd\n",
    "import numpy as np\n",
    "from datetime import timedelta\n",
    "import scipy as sp\n",
    "import scipy.fftpack\n",
    "import pickle\n"
   ]
  },
  {
   "cell_type": "markdown",
   "id": "a36f27e7",
   "metadata": {},
   "source": [
    "# Reading data from test.csv"
   ]
  },
  {
   "cell_type": "code",
   "execution_count": 2,
   "id": "e218874a",
   "metadata": {},
   "outputs": [],
   "source": [
    "df_test = pd.read_csv(\"test.csv\", low_memory=False)\n",
    "\n",
    "#appending dataframe into test_Data list\n",
    "test_Data = []\n",
    "for i in range(len(df_test)):\n",
    "    test_Data.append(df_test.iloc[i].values.tolist())"
   ]
  },
  {
   "cell_type": "markdown",
   "id": "b296e83b",
   "metadata": {},
   "source": [
    "# Creating and Extarcting Features"
   ]
  },
  {
   "cell_type": "code",
   "execution_count": 3,
   "id": "f124c404",
   "metadata": {},
   "outputs": [],
   "source": [
    "#Calculation Average\n",
    "average = []\n",
    "for i in range(len(test_Data)):\n",
    "    avg = sum(test_Data[i])/len(test_Data[i])\n",
    "    average.append(avg/50)"
   ]
  },
  {
   "cell_type": "code",
   "execution_count": 4,
   "id": "a0e123e6",
   "metadata": {},
   "outputs": [],
   "source": [
    "#Calculating diff(max - min)\n",
    "diff = []\n",
    "for i in range(len(test_Data)):\n",
    "    difference = max(test_Data[i]) - min(test_Data[i])\n",
    "    diff.append(difference/50) \n"
   ]
  },
  {
   "cell_type": "code",
   "execution_count": 5,
   "id": "b39fca00",
   "metadata": {},
   "outputs": [],
   "source": [
    "#Calculating fft values\n",
    "freq2 = []\n",
    "freq3 = []\n",
    "pow2 = []\n",
    "pow3 = []\n",
    "for i in range(len(test_Data)):\n",
    "    temp = test_Data[i]\n",
    "    fft = sp.fftpack.fft(temp)\n",
    "    amp = np.abs(fft)\n",
    "    psd = amp ** 2\n",
    "    freq = sp.fftpack.fftfreq(len(temp), 1)\n",
    "\n",
    "    #Sorting and finding max values\n",
    "    amp_sort = sorted(amp)\n",
    "    pos_2, pos_3 = amp_sort[-3], amp_sort[-4]\n",
    "\n",
    "    #checking for peak index by position\n",
    "    peak_2, peak_3 = np.where(amp == pos_2), np.where(amp == pos_3)\n",
    "\n",
    "    #getting peak indices\n",
    "    peak_index2, peak_index3 = peak_2[0][0], peak_3[0][0]\n",
    "\n",
    "    #peak power values\n",
    "    pow_2, pow_3 = np.log(psd[peak_index2]), np.log(psd[peak_index3])\n",
    "    #peak freq values\n",
    "    freq_2, freq_3 = freq[peak_index2], freq[peak_index3]\n",
    "        \n",
    "    #adding into list\n",
    "    pow2.append(round(pow_2, 3))\n",
    "    freq2.append(round(freq_2, 3))\n",
    "    pow3.append(round(pow_3, 3))\n",
    "    freq3.append(round(freq_3, 3))   \n",
    "    \n"
   ]
  },
  {
   "cell_type": "code",
   "execution_count": 6,
   "id": "78a93cf7",
   "metadata": {},
   "outputs": [],
   "source": [
    "#Calculating derivatives\n",
    "def extractFirstDervative(test_Data):\n",
    "    firstDervative_list = []\n",
    "    for i in range(len(test_Data)):\n",
    "        CGMmax = max(test_Data[i])\n",
    "        CGMmax_Index = test_Data[i].index(CGMmax)\n",
    "        diff = np.diff(test_Data[i][0:CGMmax_Index], 1)\n",
    "        diff = diff.tolist()\n",
    "        if len(diff) > 0:\n",
    "            diff_avg = sum(diff)/len(diff)\n",
    "        else:\n",
    "            diff_avg = 0\n",
    "        firstDervative_list.append(diff_avg)\n",
    "    return firstDervative_list\n",
    "\n",
    "#Extracting second derivative\n",
    "def extractSecondDervative(test_Data):\n",
    "    secondDervative_list = []\n",
    "    for i in range(len(test_Data)):\n",
    "        CGMmax = max(test_Data[i])\n",
    "        CGMmax_Index = test_Data[i].index(CGMmax)\n",
    "        diff = np.diff(test_Data[i][0:CGMmax_Index], 2)\n",
    "        diff = diff.tolist()\n",
    "        if len(diff) > 0:\n",
    "            diff_avg = sum(diff)/len(diff)\n",
    "        else:\n",
    "            diff_avg = 0\n",
    "        secondDervative_list.append(diff_avg)\n",
    "    return secondDervative_list\n",
    "\n",
    "der1, der2 = extractFirstDervative(test_Data), extractSecondDervative(test_Data)\n"
   ]
  },
  {
   "cell_type": "code",
   "execution_count": 9,
   "id": "a2d29385",
   "metadata": {},
   "outputs": [],
   "source": [
    "#Create Feature Matrix\n",
    "data =[]\n",
    "for i in range(len(test_Data)):\n",
    "    data.append({\n",
    "    'Time Difference - Tau' : average[i],\n",
    "    'CGM difference - dG' : diff[i],\n",
    "    'Power II' : pow2[i],\n",
    "    'Frequency II' : freq2[i],\n",
    "    'Power III' : pow3[i],\n",
    "    'Frequency III' : freq3[i],\n",
    "    'First Derivative' : der1[i],\n",
    "    'Second Derivative' : der2[i]\n",
    "        })\n",
    "Data_Feature_Matrix = pd.DataFrame(data)\n",
    "\n",
    "from sklearn.preprocessing import MinMaxScaler\n",
    "\n",
    "scaler = MinMaxScaler()\n",
    "Data_Feature_Matrix.iloc[:,:] = scaler.fit_transform(Data_Feature_Matrix.iloc[:,:].to_numpy())"
   ]
  },
  {
   "cell_type": "markdown",
   "id": "3ba7cdc7",
   "metadata": {},
   "source": [
    "# Loading Pickle Model"
   ]
  },
  {
   "cell_type": "code",
   "execution_count": 10,
   "id": "eabb8a75",
   "metadata": {},
   "outputs": [],
   "source": [
    "cls_PickleModel = pickle.load(open(\"RandomForestClassifier.pkl\", \"rb\"))\n",
    "pickle_Results = cls_PickleModel.predict(Data_Feature_Matrix)"
   ]
  },
  {
   "cell_type": "markdown",
   "id": "3a5ef2a0",
   "metadata": {},
   "source": [
    "# Extracting Results"
   ]
  },
  {
   "cell_type": "code",
   "execution_count": 11,
   "id": "df0775ec",
   "metadata": {},
   "outputs": [],
   "source": [
    "pd.DataFrame(pickle_Results).to_csv('Result.csv',index=False,header=False)"
   ]
  },
  {
   "cell_type": "code",
   "execution_count": null,
   "id": "34d33ec2",
   "metadata": {},
   "outputs": [],
   "source": []
  },
  {
   "cell_type": "code",
   "execution_count": null,
   "id": "085c248b",
   "metadata": {},
   "outputs": [],
   "source": []
  },
  {
   "cell_type": "code",
   "execution_count": null,
   "id": "4c55b752",
   "metadata": {},
   "outputs": [],
   "source": []
  }
 ],
 "metadata": {
  "kernelspec": {
   "display_name": "Python 3 (ipykernel)",
   "language": "python",
   "name": "python3"
  },
  "language_info": {
   "codemirror_mode": {
    "name": "ipython",
    "version": 3
   },
   "file_extension": ".py",
   "mimetype": "text/x-python",
   "name": "python",
   "nbconvert_exporter": "python",
   "pygments_lexer": "ipython3",
   "version": "3.9.13"
  }
 },
 "nbformat": 4,
 "nbformat_minor": 5
}
